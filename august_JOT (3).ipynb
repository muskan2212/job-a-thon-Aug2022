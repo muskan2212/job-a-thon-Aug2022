{
 "cells": [
  {
   "cell_type": "code",
   "execution_count": 48,
   "metadata": {},
   "outputs": [],
   "source": [
    "import numpy as np\n",
    "import pandas as pd\n",
    "import matplotlib.pyplot as plt\n",
    "import seaborn as sns"
   ]
  },
  {
   "cell_type": "code",
   "execution_count": 49,
   "metadata": {},
   "outputs": [],
   "source": [
    "df=pd.read_csv(\"C:/Users/hp/OneDrive/Desktop/kaggle notes and datasets/Job a thon/train_aug.csv\")"
   ]
  },
  {
   "cell_type": "code",
   "execution_count": 50,
   "metadata": {},
   "outputs": [
    {
     "data": {
      "text/html": [
       "<div>\n",
       "<style scoped>\n",
       "    .dataframe tbody tr th:only-of-type {\n",
       "        vertical-align: middle;\n",
       "    }\n",
       "\n",
       "    .dataframe tbody tr th {\n",
       "        vertical-align: top;\n",
       "    }\n",
       "\n",
       "    .dataframe thead th {\n",
       "        text-align: right;\n",
       "    }\n",
       "</style>\n",
       "<table border=\"1\" class=\"dataframe\">\n",
       "  <thead>\n",
       "    <tr style=\"text-align: right;\">\n",
       "      <th></th>\n",
       "      <th>campaign_id</th>\n",
       "      <th>sender</th>\n",
       "      <th>subject_len</th>\n",
       "      <th>body_len</th>\n",
       "      <th>mean_paragraph_len</th>\n",
       "      <th>day_of_week</th>\n",
       "      <th>is_weekend</th>\n",
       "      <th>times_of_day</th>\n",
       "      <th>category</th>\n",
       "      <th>product</th>\n",
       "      <th>...</th>\n",
       "      <th>is_image</th>\n",
       "      <th>is_personalised</th>\n",
       "      <th>is_quote</th>\n",
       "      <th>is_timer</th>\n",
       "      <th>is_emoticons</th>\n",
       "      <th>is_discount</th>\n",
       "      <th>is_price</th>\n",
       "      <th>is_urgency</th>\n",
       "      <th>target_audience</th>\n",
       "      <th>click_rate</th>\n",
       "    </tr>\n",
       "  </thead>\n",
       "  <tbody>\n",
       "    <tr>\n",
       "      <th>0</th>\n",
       "      <td>1</td>\n",
       "      <td>3</td>\n",
       "      <td>76</td>\n",
       "      <td>10439</td>\n",
       "      <td>39</td>\n",
       "      <td>5</td>\n",
       "      <td>1</td>\n",
       "      <td>Noon</td>\n",
       "      <td>6</td>\n",
       "      <td>26</td>\n",
       "      <td>...</td>\n",
       "      <td>0</td>\n",
       "      <td>0</td>\n",
       "      <td>0</td>\n",
       "      <td>0</td>\n",
       "      <td>0</td>\n",
       "      <td>0</td>\n",
       "      <td>0</td>\n",
       "      <td>0</td>\n",
       "      <td>14</td>\n",
       "      <td>0.103079</td>\n",
       "    </tr>\n",
       "    <tr>\n",
       "      <th>1</th>\n",
       "      <td>2</td>\n",
       "      <td>3</td>\n",
       "      <td>54</td>\n",
       "      <td>2570</td>\n",
       "      <td>256</td>\n",
       "      <td>5</td>\n",
       "      <td>1</td>\n",
       "      <td>Morning</td>\n",
       "      <td>2</td>\n",
       "      <td>11</td>\n",
       "      <td>...</td>\n",
       "      <td>0</td>\n",
       "      <td>0</td>\n",
       "      <td>0</td>\n",
       "      <td>0</td>\n",
       "      <td>0</td>\n",
       "      <td>0</td>\n",
       "      <td>0</td>\n",
       "      <td>0</td>\n",
       "      <td>10</td>\n",
       "      <td>0.700000</td>\n",
       "    </tr>\n",
       "    <tr>\n",
       "      <th>2</th>\n",
       "      <td>3</td>\n",
       "      <td>3</td>\n",
       "      <td>59</td>\n",
       "      <td>12801</td>\n",
       "      <td>16</td>\n",
       "      <td>5</td>\n",
       "      <td>1</td>\n",
       "      <td>Noon</td>\n",
       "      <td>2</td>\n",
       "      <td>11</td>\n",
       "      <td>...</td>\n",
       "      <td>1</td>\n",
       "      <td>0</td>\n",
       "      <td>1</td>\n",
       "      <td>0</td>\n",
       "      <td>0</td>\n",
       "      <td>0</td>\n",
       "      <td>0</td>\n",
       "      <td>0</td>\n",
       "      <td>16</td>\n",
       "      <td>0.002769</td>\n",
       "    </tr>\n",
       "    <tr>\n",
       "      <th>3</th>\n",
       "      <td>4</td>\n",
       "      <td>3</td>\n",
       "      <td>74</td>\n",
       "      <td>11037</td>\n",
       "      <td>30</td>\n",
       "      <td>4</td>\n",
       "      <td>0</td>\n",
       "      <td>Evening</td>\n",
       "      <td>15</td>\n",
       "      <td>9</td>\n",
       "      <td>...</td>\n",
       "      <td>0</td>\n",
       "      <td>0</td>\n",
       "      <td>0</td>\n",
       "      <td>0</td>\n",
       "      <td>0</td>\n",
       "      <td>0</td>\n",
       "      <td>0</td>\n",
       "      <td>0</td>\n",
       "      <td>10</td>\n",
       "      <td>0.010868</td>\n",
       "    </tr>\n",
       "    <tr>\n",
       "      <th>4</th>\n",
       "      <td>5</td>\n",
       "      <td>3</td>\n",
       "      <td>80</td>\n",
       "      <td>10011</td>\n",
       "      <td>27</td>\n",
       "      <td>5</td>\n",
       "      <td>1</td>\n",
       "      <td>Noon</td>\n",
       "      <td>6</td>\n",
       "      <td>26</td>\n",
       "      <td>...</td>\n",
       "      <td>0</td>\n",
       "      <td>0</td>\n",
       "      <td>1</td>\n",
       "      <td>0</td>\n",
       "      <td>0</td>\n",
       "      <td>0</td>\n",
       "      <td>0</td>\n",
       "      <td>0</td>\n",
       "      <td>14</td>\n",
       "      <td>0.142826</td>\n",
       "    </tr>\n",
       "  </tbody>\n",
       "</table>\n",
       "<p>5 rows × 22 columns</p>\n",
       "</div>"
      ],
      "text/plain": [
       "   campaign_id  sender  subject_len  body_len  mean_paragraph_len  \\\n",
       "0            1       3           76     10439                  39   \n",
       "1            2       3           54      2570                 256   \n",
       "2            3       3           59     12801                  16   \n",
       "3            4       3           74     11037                  30   \n",
       "4            5       3           80     10011                  27   \n",
       "\n",
       "   day_of_week  is_weekend times_of_day  category  product  ...  is_image  \\\n",
       "0            5           1         Noon         6       26  ...         0   \n",
       "1            5           1      Morning         2       11  ...         0   \n",
       "2            5           1         Noon         2       11  ...         1   \n",
       "3            4           0      Evening        15        9  ...         0   \n",
       "4            5           1         Noon         6       26  ...         0   \n",
       "\n",
       "   is_personalised  is_quote  is_timer  is_emoticons  is_discount  is_price  \\\n",
       "0                0         0         0             0            0         0   \n",
       "1                0         0         0             0            0         0   \n",
       "2                0         1         0             0            0         0   \n",
       "3                0         0         0             0            0         0   \n",
       "4                0         1         0             0            0         0   \n",
       "\n",
       "   is_urgency  target_audience  click_rate  \n",
       "0           0               14    0.103079  \n",
       "1           0               10    0.700000  \n",
       "2           0               16    0.002769  \n",
       "3           0               10    0.010868  \n",
       "4           0               14    0.142826  \n",
       "\n",
       "[5 rows x 22 columns]"
      ]
     },
     "execution_count": 50,
     "metadata": {},
     "output_type": "execute_result"
    }
   ],
   "source": [
    "df.head()"
   ]
  },
  {
   "cell_type": "code",
   "execution_count": 51,
   "metadata": {},
   "outputs": [
    {
     "data": {
      "text/plain": [
       "(1888, 22)"
      ]
     },
     "execution_count": 51,
     "metadata": {},
     "output_type": "execute_result"
    }
   ],
   "source": [
    "df.shape"
   ]
  },
  {
   "cell_type": "code",
   "execution_count": 52,
   "metadata": {},
   "outputs": [
    {
     "data": {
      "text/plain": [
       "campaign_id             int64\n",
       "sender                  int64\n",
       "subject_len             int64\n",
       "body_len                int64\n",
       "mean_paragraph_len      int64\n",
       "day_of_week             int64\n",
       "is_weekend              int64\n",
       "times_of_day           object\n",
       "category                int64\n",
       "product                 int64\n",
       "no_of_CTA               int64\n",
       "mean_CTA_len            int64\n",
       "is_image                int64\n",
       "is_personalised         int64\n",
       "is_quote                int64\n",
       "is_timer                int64\n",
       "is_emoticons            int64\n",
       "is_discount             int64\n",
       "is_price                int64\n",
       "is_urgency              int64\n",
       "target_audience         int64\n",
       "click_rate            float64\n",
       "dtype: object"
      ]
     },
     "execution_count": 52,
     "metadata": {},
     "output_type": "execute_result"
    }
   ],
   "source": [
    "df.dtypes"
   ]
  },
  {
   "cell_type": "code",
   "execution_count": 53,
   "metadata": {},
   "outputs": [
    {
     "data": {
      "text/plain": [
       "Evening    1317\n",
       "Noon        447\n",
       "Morning     124\n",
       "Name: times_of_day, dtype: int64"
      ]
     },
     "execution_count": 53,
     "metadata": {},
     "output_type": "execute_result"
    }
   ],
   "source": [
    "df['times_of_day'].value_counts()"
   ]
  },
  {
   "cell_type": "code",
   "execution_count": 54,
   "metadata": {},
   "outputs": [
    {
     "data": {
      "text/plain": [
       "3    346\n",
       "2    333\n",
       "4    329\n",
       "1    295\n",
       "5    237\n",
       "0    208\n",
       "6    140\n",
       "Name: day_of_week, dtype: int64"
      ]
     },
     "execution_count": 54,
     "metadata": {},
     "output_type": "execute_result"
    }
   ],
   "source": [
    "df['day_of_week'].value_counts()"
   ]
  },
  {
   "cell_type": "code",
   "execution_count": 55,
   "metadata": {},
   "outputs": [
    {
     "data": {
      "text/plain": [
       "0    1511\n",
       "1     377\n",
       "Name: is_weekend, dtype: int64"
      ]
     },
     "execution_count": 55,
     "metadata": {},
     "output_type": "execute_result"
    }
   ],
   "source": [
    "df['is_weekend'].value_counts()"
   ]
  },
  {
   "cell_type": "code",
   "execution_count": 56,
   "metadata": {},
   "outputs": [
    {
     "data": {
      "text/plain": [
       "0    1888\n",
       "Name: is_timer, dtype: int64"
      ]
     },
     "execution_count": 56,
     "metadata": {},
     "output_type": "execute_result"
    }
   ],
   "source": [
    "df['is_timer'].value_counts()"
   ]
  },
  {
   "cell_type": "code",
   "execution_count": 57,
   "metadata": {},
   "outputs": [
    {
     "data": {
      "text/plain": [
       "0"
      ]
     },
     "execution_count": 57,
     "metadata": {},
     "output_type": "execute_result"
    }
   ],
   "source": [
    "df.isna().any().sum()"
   ]
  },
  {
   "cell_type": "code",
   "execution_count": 58,
   "metadata": {},
   "outputs": [
    {
     "data": {
      "text/plain": [
       "<matplotlib.axes._subplots.AxesSubplot at 0x1a2ad4ff340>"
      ]
     },
     "execution_count": 58,
     "metadata": {},
     "output_type": "execute_result"
    },
    {
     "data": {
      "image/png": "[encoded data removed]",
      "text/plain": [
       "<Figure size 432x288 with 1 Axes>"
      ]
     },
     "metadata": {
      "needs_background": "light"
     },
     "output_type": "display_data"
    }
   ],
   "source": [
    "sns.boxplot(df['subject_len'])"
   ]
  },
  {
   "cell_type": "code",
   "execution_count": 59,
   "metadata": {},
   "outputs": [],
   "source": [
    "percentile25 = df['subject_len'].quantile(0.25)\n",
    "percentile75 = df['subject_len'].quantile(0.75)"
   ]
  },
  {
   "cell_type": "code",
   "execution_count": 60,
   "metadata": {},
   "outputs": [],
   "source": [
    "iqr=percentile75-percentile25"
   ]
  },
  {
   "cell_type": "code",
   "execution_count": 61,
   "metadata": {},
   "outputs": [],
   "source": [
    "upper_limit = percentile75 + 1.5 * iqr\n",
    "lower_limit = percentile25 - 1.5 * iqr"
   ]
  },
  {
   "cell_type": "code",
   "execution_count": 62,
   "metadata": {},
   "outputs": [],
   "source": [
    "new_df = df[(df['subject_len'] < upper_limit)]"
   ]
  },
  {
   "cell_type": "code",
   "execution_count": 63,
   "metadata": {},
   "outputs": [
    {
     "data": {
      "text/html": [
       "<div>\n",
       "<style scoped>\n",
       "    .dataframe tbody tr th:only-of-type {\n",
       "        vertical-align: middle;\n",
       "    }\n",
       "\n",
       "    .dataframe tbody tr th {\n",
       "        vertical-align: top;\n",
       "    }\n",
       "\n",
       "    .dataframe thead th {\n",
       "        text-align: right;\n",
       "    }\n",
       "</style>\n",
       "<table border=\"1\" class=\"dataframe\">\n",
       "  <thead>\n",
       "    <tr style=\"text-align: right;\">\n",
       "      <th></th>\n",
       "      <th>campaign_id</th>\n",
       "      <th>sender</th>\n",
       "      <th>subject_len</th>\n",
       "      <th>body_len</th>\n",
       "      <th>mean_paragraph_len</th>\n",
       "      <th>day_of_week</th>\n",
       "      <th>is_weekend</th>\n",
       "      <th>times_of_day</th>\n",
       "      <th>category</th>\n",
       "      <th>product</th>\n",
       "      <th>...</th>\n",
       "      <th>is_image</th>\n",
       "      <th>is_personalised</th>\n",
       "      <th>is_quote</th>\n",
       "      <th>is_timer</th>\n",
       "      <th>is_emoticons</th>\n",
       "      <th>is_discount</th>\n",
       "      <th>is_price</th>\n",
       "      <th>is_urgency</th>\n",
       "      <th>target_audience</th>\n",
       "      <th>click_rate</th>\n",
       "    </tr>\n",
       "  </thead>\n",
       "  <tbody>\n",
       "    <tr>\n",
       "      <th>0</th>\n",
       "      <td>1</td>\n",
       "      <td>3</td>\n",
       "      <td>76</td>\n",
       "      <td>10439</td>\n",
       "      <td>39</td>\n",
       "      <td>5</td>\n",
       "      <td>1</td>\n",
       "      <td>Noon</td>\n",
       "      <td>6</td>\n",
       "      <td>26</td>\n",
       "      <td>...</td>\n",
       "      <td>0</td>\n",
       "      <td>0</td>\n",
       "      <td>0</td>\n",
       "      <td>0</td>\n",
       "      <td>0</td>\n",
       "      <td>0</td>\n",
       "      <td>0</td>\n",
       "      <td>0</td>\n",
       "      <td>14</td>\n",
       "      <td>0.103079</td>\n",
       "    </tr>\n",
       "    <tr>\n",
       "      <th>1</th>\n",
       "      <td>2</td>\n",
       "      <td>3</td>\n",
       "      <td>54</td>\n",
       "      <td>2570</td>\n",
       "      <td>256</td>\n",
       "      <td>5</td>\n",
       "      <td>1</td>\n",
       "      <td>Morning</td>\n",
       "      <td>2</td>\n",
       "      <td>11</td>\n",
       "      <td>...</td>\n",
       "      <td>0</td>\n",
       "      <td>0</td>\n",
       "      <td>0</td>\n",
       "      <td>0</td>\n",
       "      <td>0</td>\n",
       "      <td>0</td>\n",
       "      <td>0</td>\n",
       "      <td>0</td>\n",
       "      <td>10</td>\n",
       "      <td>0.700000</td>\n",
       "    </tr>\n",
       "    <tr>\n",
       "      <th>2</th>\n",
       "      <td>3</td>\n",
       "      <td>3</td>\n",
       "      <td>59</td>\n",
       "      <td>12801</td>\n",
       "      <td>16</td>\n",
       "      <td>5</td>\n",
       "      <td>1</td>\n",
       "      <td>Noon</td>\n",
       "      <td>2</td>\n",
       "      <td>11</td>\n",
       "      <td>...</td>\n",
       "      <td>1</td>\n",
       "      <td>0</td>\n",
       "      <td>1</td>\n",
       "      <td>0</td>\n",
       "      <td>0</td>\n",
       "      <td>0</td>\n",
       "      <td>0</td>\n",
       "      <td>0</td>\n",
       "      <td>16</td>\n",
       "      <td>0.002769</td>\n",
       "    </tr>\n",
       "    <tr>\n",
       "      <th>3</th>\n",
       "      <td>4</td>\n",
       "      <td>3</td>\n",
       "      <td>74</td>\n",
       "      <td>11037</td>\n",
       "      <td>30</td>\n",
       "      <td>4</td>\n",
       "      <td>0</td>\n",
       "      <td>Evening</td>\n",
       "      <td>15</td>\n",
       "      <td>9</td>\n",
       "      <td>...</td>\n",
       "      <td>0</td>\n",
       "      <td>0</td>\n",
       "      <td>0</td>\n",
       "      <td>0</td>\n",
       "      <td>0</td>\n",
       "      <td>0</td>\n",
       "      <td>0</td>\n",
       "      <td>0</td>\n",
       "      <td>10</td>\n",
       "      <td>0.010868</td>\n",
       "    </tr>\n",
       "    <tr>\n",
       "      <th>4</th>\n",
       "      <td>5</td>\n",
       "      <td>3</td>\n",
       "      <td>80</td>\n",
       "      <td>10011</td>\n",
       "      <td>27</td>\n",
       "      <td>5</td>\n",
       "      <td>1</td>\n",
       "      <td>Noon</td>\n",
       "      <td>6</td>\n",
       "      <td>26</td>\n",
       "      <td>...</td>\n",
       "      <td>0</td>\n",
       "      <td>0</td>\n",
       "      <td>1</td>\n",
       "      <td>0</td>\n",
       "      <td>0</td>\n",
       "      <td>0</td>\n",
       "      <td>0</td>\n",
       "      <td>0</td>\n",
       "      <td>14</td>\n",
       "      <td>0.142826</td>\n",
       "    </tr>\n",
       "  </tbody>\n",
       "</table>\n",
       "<p>5 rows × 22 columns</p>\n",
       "</div>"
      ],
      "text/plain": [
       "   campaign_id  sender  subject_len  body_len  mean_paragraph_len  \\\n",
       "0            1       3           76     10439                  39   \n",
       "1            2       3           54      2570                 256   \n",
       "2            3       3           59     12801                  16   \n",
       "3            4       3           74     11037                  30   \n",
       "4            5       3           80     10011                  27   \n",
       "\n",
       "   day_of_week  is_weekend times_of_day  category  product  ...  is_image  \\\n",
       "0            5           1         Noon         6       26  ...         0   \n",
       "1            5           1      Morning         2       11  ...         0   \n",
       "2            5           1         Noon         2       11  ...         1   \n",
       "3            4           0      Evening        15        9  ...         0   \n",
       "4            5           1         Noon         6       26  ...         0   \n",
       "\n",
       "   is_personalised  is_quote  is_timer  is_emoticons  is_discount  is_price  \\\n",
       "0                0         0         0             0            0         0   \n",
       "1                0         0         0             0            0         0   \n",
       "2                0         1         0             0            0         0   \n",
       "3                0         0         0             0            0         0   \n",
       "4                0         1         0             0            0         0   \n",
       "\n",
       "   is_urgency  target_audience  click_rate  \n",
       "0           0               14    0.103079  \n",
       "1           0               10    0.700000  \n",
       "2           0               16    0.002769  \n",
       "3           0               10    0.010868  \n",
       "4           0               14    0.142826  \n",
       "\n",
       "[5 rows x 22 columns]"
      ]
     },
     "execution_count": 63,
     "metadata": {},
     "output_type": "execute_result"
    }
   ],
   "source": [
    "new_df.head()"
   ]
  },
  {
   "cell_type": "code",
   "execution_count": 64,
   "metadata": {},
   "outputs": [
    {
     "data": {
      "text/plain": [
       "<matplotlib.axes._subplots.AxesSubplot at 0x1a2ad53d280>"
      ]
     },
     "execution_count": 64,
     "metadata": {},
     "output_type": "execute_result"
    },
    {
     "data": {
      "image/png": "[encoded data removed]",
      "text/plain": [
       "<Figure size 432x288 with 1 Axes>"
      ]
     },
     "metadata": {
      "needs_background": "light"
     },
     "output_type": "display_data"
    }
   ],
   "source": [
    "sns.boxplot(df['body_len'])"
   ]
  },
  {
   "cell_type": "code",
   "execution_count": 65,
   "metadata": {},
   "outputs": [],
   "source": [
    "percentile25 = df['body_len'].quantile(0.25)\n",
    "percentile75 = df['body_len'].quantile(0.75)"
   ]
  },
  {
   "cell_type": "code",
   "execution_count": 66,
   "metadata": {},
   "outputs": [],
   "source": [
    "iqr=percentile75-percentile25"
   ]
  },
  {
   "cell_type": "code",
   "execution_count": 67,
   "metadata": {},
   "outputs": [],
   "source": [
    "upper_limit = percentile75 + 1.5 * iqr\n",
    "lower_limit = percentile25 - 1.5 * iqr"
   ]
  },
  {
   "cell_type": "code",
   "execution_count": 68,
   "metadata": {},
   "outputs": [],
   "source": [
    "new_df = df[(df['body_len'] < upper_limit)]"
   ]
  },
  {
   "cell_type": "code",
   "execution_count": null,
   "metadata": {},
   "outputs": [],
   "source": []
  },
  {
   "cell_type": "code",
   "execution_count": 69,
   "metadata": {},
   "outputs": [
    {
     "data": {
      "text/plain": [
       "(75, 22)"
      ]
     },
     "execution_count": 69,
     "metadata": {},
     "output_type": "execute_result"
    }
   ],
   "source": [
    "df[df['body_len']>30000].shape"
   ]
  },
  {
   "cell_type": "code",
   "execution_count": 70,
   "metadata": {},
   "outputs": [
    {
     "data": {
      "text/plain": [
       "<matplotlib.axes._subplots.AxesSubplot at 0x1a2acd438e0>"
      ]
     },
     "execution_count": 70,
     "metadata": {},
     "output_type": "execute_result"
    },
    {
     "data": {
      "image/png": "[encoded data removed]",
      "text/plain": [
       "<Figure size 432x288 with 1 Axes>"
      ]
     },
     "metadata": {
      "needs_background": "light"
     },
     "output_type": "display_data"
    }
   ],
   "source": [
    "sns.boxplot(df['mean_paragraph_len'])"
   ]
  },
  {
   "cell_type": "code",
   "execution_count": 71,
   "metadata": {},
   "outputs": [],
   "source": [
    "percentile25 = df['mean_paragraph_len'].quantile(0.25)\n",
    "percentile75 = df['mean_paragraph_len'].quantile(0.75)"
   ]
  },
  {
   "cell_type": "code",
   "execution_count": 72,
   "metadata": {},
   "outputs": [],
   "source": [
    "iqr=percentile75-percentile25"
   ]
  },
  {
   "cell_type": "code",
   "execution_count": 73,
   "metadata": {},
   "outputs": [],
   "source": [
    "upper_limit = percentile75 + 1.5 * iqr\n",
    "lower_limit = percentile25 - 1.5 * iqr"
   ]
  },
  {
   "cell_type": "code",
   "execution_count": 74,
   "metadata": {},
   "outputs": [],
   "source": [
    "new_df = df[(df['mean_paragraph_len'] < upper_limit) ]"
   ]
  },
  {
   "cell_type": "code",
   "execution_count": 75,
   "metadata": {},
   "outputs": [],
   "source": [
    "cd=['is_image','is_personalised','is_quote','is_timer','is_emoticons','is_discount','is_price','is_urgency']"
   ]
  },
  {
   "cell_type": "code",
   "execution_count": 76,
   "metadata": {},
   "outputs": [
    {
     "data": {
      "image/png": "[encoded data removed]",
      "text/plain": [
       "<Figure size 432x288 with 2 Axes>"
      ]
     },
     "metadata": {
      "needs_background": "light"
     },
     "output_type": "display_data"
    }
   ],
   "source": [
    "corrMatrix = df[cd].corr()\n",
    "sns.heatmap(corrMatrix, annot=True)\n",
    "plt.show()"
   ]
  },
  {
   "cell_type": "code",
   "execution_count": null,
   "metadata": {},
   "outputs": [],
   "source": []
  },
  {
   "cell_type": "code",
   "execution_count": null,
   "metadata": {},
   "outputs": [],
   "source": []
  },
  {
   "cell_type": "code",
   "execution_count": null,
   "metadata": {},
   "outputs": [],
   "source": []
  },
  {
   "cell_type": "code",
   "execution_count": 77,
   "metadata": {},
   "outputs": [
    {
     "data": {
      "text/plain": [
       "(96, 22)"
      ]
     },
     "execution_count": 77,
     "metadata": {},
     "output_type": "execute_result"
    }
   ],
   "source": [
    "df[df['mean_paragraph_len']>75].shape"
   ]
  },
  {
   "cell_type": "code",
   "execution_count": 78,
   "metadata": {},
   "outputs": [
    {
     "data": {
      "text/plain": [
       "<matplotlib.axes._subplots.AxesSubplot at 0x1a2ad58a460>"
      ]
     },
     "execution_count": 78,
     "metadata": {},
     "output_type": "execute_result"
    },
    {
     "data": {
      "image/png": "[encoded data removed]",
      "text/plain": [
       "<Figure size 432x288 with 1 Axes>"
      ]
     },
     "metadata": {
      "needs_background": "light"
     },
     "output_type": "display_data"
    }
   ],
   "source": [
    "sns.boxplot(df['mean_CTA_len'])"
   ]
  },
  {
   "cell_type": "code",
   "execution_count": 79,
   "metadata": {},
   "outputs": [],
   "source": [
    "percentile25 = df['mean_CTA_len'].quantile(0.25)\n",
    "percentile75 = df['mean_CTA_len'].quantile(0.75)"
   ]
  },
  {
   "cell_type": "code",
   "execution_count": 80,
   "metadata": {},
   "outputs": [],
   "source": [
    "iqr=percentile75-percentile25"
   ]
  },
  {
   "cell_type": "code",
   "execution_count": 81,
   "metadata": {},
   "outputs": [],
   "source": [
    "upper_limit = percentile75 + 1.5 * iqr\n",
    "lower_limit = percentile25 - 1.5 * iqr"
   ]
  },
  {
   "cell_type": "code",
   "execution_count": 82,
   "metadata": {},
   "outputs": [],
   "source": [
    "new_df = df[(df['mean_CTA_len'] < upper_limit) ]"
   ]
  },
  {
   "cell_type": "code",
   "execution_count": 83,
   "metadata": {},
   "outputs": [
    {
     "data": {
      "text/plain": [
       "(1833, 22)"
      ]
     },
     "execution_count": 83,
     "metadata": {},
     "output_type": "execute_result"
    }
   ],
   "source": [
    "new_df.shape"
   ]
  },
  {
   "cell_type": "code",
   "execution_count": null,
   "metadata": {},
   "outputs": [],
   "source": []
  },
  {
   "cell_type": "code",
   "execution_count": null,
   "metadata": {},
   "outputs": [],
   "source": []
  },
  {
   "cell_type": "code",
   "execution_count": null,
   "metadata": {},
   "outputs": [],
   "source": []
  },
  {
   "cell_type": "code",
   "execution_count": 84,
   "metadata": {},
   "outputs": [],
   "source": [
    "from sklearn.preprocessing import OrdinalEncoder"
   ]
  },
  {
   "cell_type": "code",
   "execution_count": 85,
   "metadata": {},
   "outputs": [
    {
     "name": "stderr",
     "output_type": "stream",
     "text": [
      "<ipython-input-85-8d6568093af9>:3: SettingWithCopyWarning: \n",
      "A value is trying to be set on a copy of a slice from a DataFrame.\n",
      "Try using .loc[row_indexer,col_indexer] = value instead\n",
      "\n",
      "See the caveats in the documentation: https://pandas.pydata.org/pandas-docs/stable/user_guide/indexing.html#returning-a-view-versus-a-copy\n",
      "  new_df[v]=enc.fit_transform(new_df[v])\n"
     ]
    }
   ],
   "source": [
    "enc=OrdinalEncoder()\n",
    "v=['times_of_day']\n",
    "new_df[v]=enc.fit_transform(new_df[v])"
   ]
  },
  {
   "cell_type": "code",
   "execution_count": 86,
   "metadata": {},
   "outputs": [
    {
     "data": {
      "text/plain": [
       "(1888, 22)"
      ]
     },
     "execution_count": 86,
     "metadata": {},
     "output_type": "execute_result"
    }
   ],
   "source": [
    "df.shape"
   ]
  },
  {
   "cell_type": "code",
   "execution_count": 87,
   "metadata": {},
   "outputs": [],
   "source": [
    "new_df=new_df.drop(['is_timer'],axis=1)"
   ]
  },
  {
   "cell_type": "code",
   "execution_count": 88,
   "metadata": {},
   "outputs": [
    {
     "data": {
      "text/html": [
       "<div>\n",
       "<style scoped>\n",
       "    .dataframe tbody tr th:only-of-type {\n",
       "        vertical-align: middle;\n",
       "    }\n",
       "\n",
       "    .dataframe tbody tr th {\n",
       "        vertical-align: top;\n",
       "    }\n",
       "\n",
       "    .dataframe thead th {\n",
       "        text-align: right;\n",
       "    }\n",
       "</style>\n",
       "<table border=\"1\" class=\"dataframe\">\n",
       "  <thead>\n",
       "    <tr style=\"text-align: right;\">\n",
       "      <th></th>\n",
       "      <th>sender</th>\n",
       "      <th>subject_len</th>\n",
       "      <th>body_len</th>\n",
       "      <th>mean_paragraph_len</th>\n",
       "      <th>day_of_week</th>\n",
       "      <th>is_weekend</th>\n",
       "      <th>times_of_day</th>\n",
       "      <th>category</th>\n",
       "      <th>product</th>\n",
       "      <th>no_of_CTA</th>\n",
       "      <th>mean_CTA_len</th>\n",
       "      <th>is_image</th>\n",
       "      <th>is_personalised</th>\n",
       "      <th>is_quote</th>\n",
       "      <th>is_emoticons</th>\n",
       "      <th>is_discount</th>\n",
       "      <th>is_price</th>\n",
       "      <th>is_urgency</th>\n",
       "      <th>target_audience</th>\n",
       "    </tr>\n",
       "  </thead>\n",
       "  <tbody>\n",
       "    <tr>\n",
       "      <th>0</th>\n",
       "      <td>3</td>\n",
       "      <td>76</td>\n",
       "      <td>10439</td>\n",
       "      <td>39</td>\n",
       "      <td>5</td>\n",
       "      <td>1</td>\n",
       "      <td>2.0</td>\n",
       "      <td>6</td>\n",
       "      <td>26</td>\n",
       "      <td>3</td>\n",
       "      <td>29</td>\n",
       "      <td>0</td>\n",
       "      <td>0</td>\n",
       "      <td>0</td>\n",
       "      <td>0</td>\n",
       "      <td>0</td>\n",
       "      <td>0</td>\n",
       "      <td>0</td>\n",
       "      <td>14</td>\n",
       "    </tr>\n",
       "    <tr>\n",
       "      <th>1</th>\n",
       "      <td>3</td>\n",
       "      <td>54</td>\n",
       "      <td>2570</td>\n",
       "      <td>256</td>\n",
       "      <td>5</td>\n",
       "      <td>1</td>\n",
       "      <td>1.0</td>\n",
       "      <td>2</td>\n",
       "      <td>11</td>\n",
       "      <td>0</td>\n",
       "      <td>22</td>\n",
       "      <td>0</td>\n",
       "      <td>0</td>\n",
       "      <td>0</td>\n",
       "      <td>0</td>\n",
       "      <td>0</td>\n",
       "      <td>0</td>\n",
       "      <td>0</td>\n",
       "      <td>10</td>\n",
       "    </tr>\n",
       "    <tr>\n",
       "      <th>2</th>\n",
       "      <td>3</td>\n",
       "      <td>59</td>\n",
       "      <td>12801</td>\n",
       "      <td>16</td>\n",
       "      <td>5</td>\n",
       "      <td>1</td>\n",
       "      <td>2.0</td>\n",
       "      <td>2</td>\n",
       "      <td>11</td>\n",
       "      <td>3</td>\n",
       "      <td>23</td>\n",
       "      <td>1</td>\n",
       "      <td>0</td>\n",
       "      <td>1</td>\n",
       "      <td>0</td>\n",
       "      <td>0</td>\n",
       "      <td>0</td>\n",
       "      <td>0</td>\n",
       "      <td>16</td>\n",
       "    </tr>\n",
       "    <tr>\n",
       "      <th>3</th>\n",
       "      <td>3</td>\n",
       "      <td>74</td>\n",
       "      <td>11037</td>\n",
       "      <td>30</td>\n",
       "      <td>4</td>\n",
       "      <td>0</td>\n",
       "      <td>0.0</td>\n",
       "      <td>15</td>\n",
       "      <td>9</td>\n",
       "      <td>4</td>\n",
       "      <td>24</td>\n",
       "      <td>0</td>\n",
       "      <td>0</td>\n",
       "      <td>0</td>\n",
       "      <td>0</td>\n",
       "      <td>0</td>\n",
       "      <td>0</td>\n",
       "      <td>0</td>\n",
       "      <td>10</td>\n",
       "    </tr>\n",
       "    <tr>\n",
       "      <th>4</th>\n",
       "      <td>3</td>\n",
       "      <td>80</td>\n",
       "      <td>10011</td>\n",
       "      <td>27</td>\n",
       "      <td>5</td>\n",
       "      <td>1</td>\n",
       "      <td>2.0</td>\n",
       "      <td>6</td>\n",
       "      <td>26</td>\n",
       "      <td>3</td>\n",
       "      <td>31</td>\n",
       "      <td>0</td>\n",
       "      <td>0</td>\n",
       "      <td>1</td>\n",
       "      <td>0</td>\n",
       "      <td>0</td>\n",
       "      <td>0</td>\n",
       "      <td>0</td>\n",
       "      <td>14</td>\n",
       "    </tr>\n",
       "    <tr>\n",
       "      <th>...</th>\n",
       "      <td>...</td>\n",
       "      <td>...</td>\n",
       "      <td>...</td>\n",
       "      <td>...</td>\n",
       "      <td>...</td>\n",
       "      <td>...</td>\n",
       "      <td>...</td>\n",
       "      <td>...</td>\n",
       "      <td>...</td>\n",
       "      <td>...</td>\n",
       "      <td>...</td>\n",
       "      <td>...</td>\n",
       "      <td>...</td>\n",
       "      <td>...</td>\n",
       "      <td>...</td>\n",
       "      <td>...</td>\n",
       "      <td>...</td>\n",
       "      <td>...</td>\n",
       "      <td>...</td>\n",
       "    </tr>\n",
       "    <tr>\n",
       "      <th>1883</th>\n",
       "      <td>3</td>\n",
       "      <td>88</td>\n",
       "      <td>1451</td>\n",
       "      <td>75</td>\n",
       "      <td>2</td>\n",
       "      <td>0</td>\n",
       "      <td>2.0</td>\n",
       "      <td>2</td>\n",
       "      <td>11</td>\n",
       "      <td>0</td>\n",
       "      <td>22</td>\n",
       "      <td>0</td>\n",
       "      <td>0</td>\n",
       "      <td>1</td>\n",
       "      <td>0</td>\n",
       "      <td>0</td>\n",
       "      <td>0</td>\n",
       "      <td>0</td>\n",
       "      <td>10</td>\n",
       "    </tr>\n",
       "    <tr>\n",
       "      <th>1884</th>\n",
       "      <td>3</td>\n",
       "      <td>58</td>\n",
       "      <td>10537</td>\n",
       "      <td>40</td>\n",
       "      <td>2</td>\n",
       "      <td>0</td>\n",
       "      <td>0.0</td>\n",
       "      <td>2</td>\n",
       "      <td>11</td>\n",
       "      <td>5</td>\n",
       "      <td>27</td>\n",
       "      <td>0</td>\n",
       "      <td>0</td>\n",
       "      <td>0</td>\n",
       "      <td>0</td>\n",
       "      <td>0</td>\n",
       "      <td>0</td>\n",
       "      <td>0</td>\n",
       "      <td>11</td>\n",
       "    </tr>\n",
       "    <tr>\n",
       "      <th>1885</th>\n",
       "      <td>3</td>\n",
       "      <td>89</td>\n",
       "      <td>11050</td>\n",
       "      <td>26</td>\n",
       "      <td>1</td>\n",
       "      <td>0</td>\n",
       "      <td>0.0</td>\n",
       "      <td>15</td>\n",
       "      <td>9</td>\n",
       "      <td>4</td>\n",
       "      <td>28</td>\n",
       "      <td>0</td>\n",
       "      <td>0</td>\n",
       "      <td>0</td>\n",
       "      <td>0</td>\n",
       "      <td>0</td>\n",
       "      <td>0</td>\n",
       "      <td>0</td>\n",
       "      <td>6</td>\n",
       "    </tr>\n",
       "    <tr>\n",
       "      <th>1886</th>\n",
       "      <td>3</td>\n",
       "      <td>58</td>\n",
       "      <td>10537</td>\n",
       "      <td>40</td>\n",
       "      <td>1</td>\n",
       "      <td>0</td>\n",
       "      <td>0.0</td>\n",
       "      <td>2</td>\n",
       "      <td>11</td>\n",
       "      <td>5</td>\n",
       "      <td>27</td>\n",
       "      <td>0</td>\n",
       "      <td>0</td>\n",
       "      <td>0</td>\n",
       "      <td>0</td>\n",
       "      <td>0</td>\n",
       "      <td>0</td>\n",
       "      <td>0</td>\n",
       "      <td>16</td>\n",
       "    </tr>\n",
       "    <tr>\n",
       "      <th>1887</th>\n",
       "      <td>3</td>\n",
       "      <td>89</td>\n",
       "      <td>11050</td>\n",
       "      <td>26</td>\n",
       "      <td>0</td>\n",
       "      <td>0</td>\n",
       "      <td>0.0</td>\n",
       "      <td>15</td>\n",
       "      <td>9</td>\n",
       "      <td>4</td>\n",
       "      <td>28</td>\n",
       "      <td>0</td>\n",
       "      <td>0</td>\n",
       "      <td>0</td>\n",
       "      <td>0</td>\n",
       "      <td>0</td>\n",
       "      <td>0</td>\n",
       "      <td>0</td>\n",
       "      <td>10</td>\n",
       "    </tr>\n",
       "  </tbody>\n",
       "</table>\n",
       "<p>1833 rows × 19 columns</p>\n",
       "</div>"
      ],
      "text/plain": [
       "      sender  subject_len  body_len  mean_paragraph_len  day_of_week  \\\n",
       "0          3           76     10439                  39            5   \n",
       "1          3           54      2570                 256            5   \n",
       "2          3           59     12801                  16            5   \n",
       "3          3           74     11037                  30            4   \n",
       "4          3           80     10011                  27            5   \n",
       "...      ...          ...       ...                 ...          ...   \n",
       "1883       3           88      1451                  75            2   \n",
       "1884       3           58     10537                  40            2   \n",
       "1885       3           89     11050                  26            1   \n",
       "1886       3           58     10537                  40            1   \n",
       "1887       3           89     11050                  26            0   \n",
       "\n",
       "      is_weekend  times_of_day  category  product  no_of_CTA  mean_CTA_len  \\\n",
       "0              1           2.0         6       26          3            29   \n",
       "1              1           1.0         2       11          0            22   \n",
       "2              1           2.0         2       11          3            23   \n",
       "3              0           0.0        15        9          4            24   \n",
       "4              1           2.0         6       26          3            31   \n",
       "...          ...           ...       ...      ...        ...           ...   \n",
       "1883           0           2.0         2       11          0            22   \n",
       "1884           0           0.0         2       11          5            27   \n",
       "1885           0           0.0        15        9          4            28   \n",
       "1886           0           0.0         2       11          5            27   \n",
       "1887           0           0.0        15        9          4            28   \n",
       "\n",
       "      is_image  is_personalised  is_quote  is_emoticons  is_discount  \\\n",
       "0            0                0         0             0            0   \n",
       "1            0                0         0             0            0   \n",
       "2            1                0         1             0            0   \n",
       "3            0                0         0             0            0   \n",
       "4            0                0         1             0            0   \n",
       "...        ...              ...       ...           ...          ...   \n",
       "1883         0                0         1             0            0   \n",
       "1884         0                0         0             0            0   \n",
       "1885         0                0         0             0            0   \n",
       "1886         0                0         0             0            0   \n",
       "1887         0                0         0             0            0   \n",
       "\n",
       "      is_price  is_urgency  target_audience  \n",
       "0            0           0               14  \n",
       "1            0           0               10  \n",
       "2            0           0               16  \n",
       "3            0           0               10  \n",
       "4            0           0               14  \n",
       "...        ...         ...              ...  \n",
       "1883         0           0               10  \n",
       "1884         0           0               11  \n",
       "1885         0           0                6  \n",
       "1886         0           0               16  \n",
       "1887         0           0               10  \n",
       "\n",
       "[1833 rows x 19 columns]"
      ]
     },
     "execution_count": 88,
     "metadata": {},
     "output_type": "execute_result"
    }
   ],
   "source": [
    "x=new_df.iloc[:,1:-1]\n",
    "x"
   ]
  },
  {
   "cell_type": "code",
   "execution_count": 89,
   "metadata": {},
   "outputs": [],
   "source": [
    "y=new_df['click_rate']"
   ]
  },
  {
   "cell_type": "code",
   "execution_count": null,
   "metadata": {},
   "outputs": [],
   "source": []
  },
  {
   "cell_type": "code",
   "execution_count": null,
   "metadata": {},
   "outputs": [],
   "source": []
  },
  {
   "cell_type": "code",
   "execution_count": 90,
   "metadata": {},
   "outputs": [
    {
     "data": {
      "text/html": [
       "<div>\n",
       "<style scoped>\n",
       "    .dataframe tbody tr th:only-of-type {\n",
       "        vertical-align: middle;\n",
       "    }\n",
       "\n",
       "    .dataframe tbody tr th {\n",
       "        vertical-align: top;\n",
       "    }\n",
       "\n",
       "    .dataframe thead th {\n",
       "        text-align: right;\n",
       "    }\n",
       "</style>\n",
       "<table border=\"1\" class=\"dataframe\">\n",
       "  <thead>\n",
       "    <tr style=\"text-align: right;\">\n",
       "      <th></th>\n",
       "      <th>campaign_id</th>\n",
       "      <th>sender</th>\n",
       "      <th>subject_len</th>\n",
       "      <th>body_len</th>\n",
       "      <th>mean_paragraph_len</th>\n",
       "      <th>day_of_week</th>\n",
       "      <th>is_weekend</th>\n",
       "      <th>times_of_day</th>\n",
       "      <th>category</th>\n",
       "      <th>product</th>\n",
       "      <th>...</th>\n",
       "      <th>mean_CTA_len</th>\n",
       "      <th>is_image</th>\n",
       "      <th>is_personalised</th>\n",
       "      <th>is_quote</th>\n",
       "      <th>is_timer</th>\n",
       "      <th>is_emoticons</th>\n",
       "      <th>is_discount</th>\n",
       "      <th>is_price</th>\n",
       "      <th>is_urgency</th>\n",
       "      <th>target_audience</th>\n",
       "    </tr>\n",
       "  </thead>\n",
       "  <tbody>\n",
       "    <tr>\n",
       "      <th>0</th>\n",
       "      <td>1889</td>\n",
       "      <td>3</td>\n",
       "      <td>61</td>\n",
       "      <td>12871</td>\n",
       "      <td>11</td>\n",
       "      <td>6</td>\n",
       "      <td>1</td>\n",
       "      <td>Noon</td>\n",
       "      <td>6</td>\n",
       "      <td>26</td>\n",
       "      <td>...</td>\n",
       "      <td>37</td>\n",
       "      <td>1</td>\n",
       "      <td>0</td>\n",
       "      <td>0</td>\n",
       "      <td>0</td>\n",
       "      <td>1</td>\n",
       "      <td>0</td>\n",
       "      <td>0</td>\n",
       "      <td>0</td>\n",
       "      <td>14</td>\n",
       "    </tr>\n",
       "    <tr>\n",
       "      <th>1</th>\n",
       "      <td>1890</td>\n",
       "      <td>3</td>\n",
       "      <td>54</td>\n",
       "      <td>2569</td>\n",
       "      <td>256</td>\n",
       "      <td>5</td>\n",
       "      <td>1</td>\n",
       "      <td>Morning</td>\n",
       "      <td>2</td>\n",
       "      <td>11</td>\n",
       "      <td>...</td>\n",
       "      <td>22</td>\n",
       "      <td>0</td>\n",
       "      <td>0</td>\n",
       "      <td>0</td>\n",
       "      <td>0</td>\n",
       "      <td>0</td>\n",
       "      <td>0</td>\n",
       "      <td>0</td>\n",
       "      <td>0</td>\n",
       "      <td>10</td>\n",
       "    </tr>\n",
       "    <tr>\n",
       "      <th>2</th>\n",
       "      <td>1891</td>\n",
       "      <td>3</td>\n",
       "      <td>88</td>\n",
       "      <td>1473</td>\n",
       "      <td>78</td>\n",
       "      <td>4</td>\n",
       "      <td>0</td>\n",
       "      <td>Evening</td>\n",
       "      <td>2</td>\n",
       "      <td>11</td>\n",
       "      <td>...</td>\n",
       "      <td>22</td>\n",
       "      <td>1</td>\n",
       "      <td>0</td>\n",
       "      <td>1</td>\n",
       "      <td>0</td>\n",
       "      <td>0</td>\n",
       "      <td>0</td>\n",
       "      <td>0</td>\n",
       "      <td>0</td>\n",
       "      <td>10</td>\n",
       "    </tr>\n",
       "    <tr>\n",
       "      <th>3</th>\n",
       "      <td>1892</td>\n",
       "      <td>3</td>\n",
       "      <td>88</td>\n",
       "      <td>1473</td>\n",
       "      <td>78</td>\n",
       "      <td>3</td>\n",
       "      <td>0</td>\n",
       "      <td>Evening</td>\n",
       "      <td>2</td>\n",
       "      <td>11</td>\n",
       "      <td>...</td>\n",
       "      <td>22</td>\n",
       "      <td>1</td>\n",
       "      <td>0</td>\n",
       "      <td>1</td>\n",
       "      <td>0</td>\n",
       "      <td>0</td>\n",
       "      <td>0</td>\n",
       "      <td>0</td>\n",
       "      <td>0</td>\n",
       "      <td>10</td>\n",
       "    </tr>\n",
       "    <tr>\n",
       "      <th>4</th>\n",
       "      <td>1893</td>\n",
       "      <td>3</td>\n",
       "      <td>78</td>\n",
       "      <td>9020</td>\n",
       "      <td>29</td>\n",
       "      <td>3</td>\n",
       "      <td>0</td>\n",
       "      <td>Noon</td>\n",
       "      <td>6</td>\n",
       "      <td>26</td>\n",
       "      <td>...</td>\n",
       "      <td>40</td>\n",
       "      <td>0</td>\n",
       "      <td>0</td>\n",
       "      <td>0</td>\n",
       "      <td>0</td>\n",
       "      <td>0</td>\n",
       "      <td>0</td>\n",
       "      <td>0</td>\n",
       "      <td>0</td>\n",
       "      <td>14</td>\n",
       "    </tr>\n",
       "  </tbody>\n",
       "</table>\n",
       "<p>5 rows × 21 columns</p>\n",
       "</div>"
      ],
      "text/plain": [
       "   campaign_id  sender  subject_len  body_len  mean_paragraph_len  \\\n",
       "0         1889       3           61     12871                  11   \n",
       "1         1890       3           54      2569                 256   \n",
       "2         1891       3           88      1473                  78   \n",
       "3         1892       3           88      1473                  78   \n",
       "4         1893       3           78      9020                  29   \n",
       "\n",
       "   day_of_week  is_weekend times_of_day  category  product  ...  mean_CTA_len  \\\n",
       "0            6           1         Noon         6       26  ...            37   \n",
       "1            5           1      Morning         2       11  ...            22   \n",
       "2            4           0      Evening         2       11  ...            22   \n",
       "3            3           0      Evening         2       11  ...            22   \n",
       "4            3           0         Noon         6       26  ...            40   \n",
       "\n",
       "   is_image  is_personalised  is_quote  is_timer  is_emoticons  is_discount  \\\n",
       "0         1                0         0         0             1            0   \n",
       "1         0                0         0         0             0            0   \n",
       "2         1                0         1         0             0            0   \n",
       "3         1                0         1         0             0            0   \n",
       "4         0                0         0         0             0            0   \n",
       "\n",
       "   is_price  is_urgency  target_audience  \n",
       "0         0           0               14  \n",
       "1         0           0               10  \n",
       "2         0           0               10  \n",
       "3         0           0               10  \n",
       "4         0           0               14  \n",
       "\n",
       "[5 rows x 21 columns]"
      ]
     },
     "execution_count": 90,
     "metadata": {},
     "output_type": "execute_result"
    }
   ],
   "source": [
    "df_=pd.read_csv(\"C:/Users/hp/OneDrive/Desktop/kaggle notes and datasets/test_aug.csv\")\n",
    "df_.head()"
   ]
  },
  {
   "cell_type": "code",
   "execution_count": 91,
   "metadata": {},
   "outputs": [],
   "source": [
    "df_=df_.drop(['is_timer'],axis=1)"
   ]
  },
  {
   "cell_type": "code",
   "execution_count": 92,
   "metadata": {},
   "outputs": [
    {
     "data": {
      "text/plain": [
       "Index(['campaign_id', 'sender', 'subject_len', 'body_len',\n",
       "       'mean_paragraph_len', 'day_of_week', 'is_weekend', 'times_of_day',\n",
       "       'category', 'product', 'no_of_CTA', 'mean_CTA_len', 'is_image',\n",
       "       'is_personalised', 'is_quote', 'is_emoticons', 'is_discount',\n",
       "       'is_price', 'is_urgency', 'target_audience'],\n",
       "      dtype='object')"
      ]
     },
     "execution_count": 92,
     "metadata": {},
     "output_type": "execute_result"
    }
   ],
   "source": [
    "df_.columns"
   ]
  },
  {
   "cell_type": "code",
   "execution_count": 93,
   "metadata": {},
   "outputs": [],
   "source": [
    "from sklearn.preprocessing import OrdinalEncoder"
   ]
  },
  {
   "cell_type": "code",
   "execution_count": 94,
   "metadata": {},
   "outputs": [],
   "source": [
    "en=OrdinalEncoder()\n",
    "w=['times_of_day']\n",
    "df_[w]=en.fit_transform(df_[w])"
   ]
  },
  {
   "cell_type": "code",
   "execution_count": 95,
   "metadata": {},
   "outputs": [
    {
     "data": {
      "text/plain": [
       "(762, 20)"
      ]
     },
     "execution_count": 95,
     "metadata": {},
     "output_type": "execute_result"
    }
   ],
   "source": [
    "df_.shape"
   ]
  },
  {
   "cell_type": "code",
   "execution_count": 96,
   "metadata": {},
   "outputs": [],
   "source": [
    "x1=df_.iloc[:,1:]"
   ]
  },
  {
   "cell_type": "code",
   "execution_count": 97,
   "metadata": {},
   "outputs": [
    {
     "data": {
      "text/plain": [
       "(762, 19)"
      ]
     },
     "execution_count": 97,
     "metadata": {},
     "output_type": "execute_result"
    }
   ],
   "source": [
    "x1.shape"
   ]
  },
  {
   "cell_type": "code",
   "execution_count": 98,
   "metadata": {},
   "outputs": [],
   "source": [
    "from sklearn.ensemble import RandomForestRegressor"
   ]
  },
  {
   "cell_type": "code",
   "execution_count": 99,
   "metadata": {},
   "outputs": [],
   "source": [
    "model=RandomForestRegressor(n_estimators = 15, max_depth = 5, random_state = 2)"
   ]
  },
  {
   "cell_type": "code",
   "execution_count": 100,
   "metadata": {},
   "outputs": [
    {
     "data": {
      "text/plain": [
       "RandomForestRegressor(max_depth=5, n_estimators=15, random_state=2)"
      ]
     },
     "execution_count": 100,
     "metadata": {},
     "output_type": "execute_result"
    }
   ],
   "source": [
    "model.fit(x,y)"
   ]
  },
  {
   "cell_type": "code",
   "execution_count": 101,
   "metadata": {},
   "outputs": [],
   "source": [
    "pred=model.predict(x1)"
   ]
  },
  {
   "cell_type": "code",
   "execution_count": 102,
   "metadata": {},
   "outputs": [
    {
     "data": {
      "text/plain": [
       "array([0.030558, 0.433309, 0.181397, 0.192416, 0.085313, 0.02149 ,\n",
       "       0.011929, 0.014888, 0.021911, 0.027751, 0.024191, 0.054882,\n",
       "       0.025488, 0.026875, 0.015019, 0.01436 , 0.013679, 0.034075,\n",
       "       0.028654, 0.036383, 0.024191, 0.033716, 0.013013, 0.014923,\n",
       "       0.036394, 0.036951, 0.076677, 0.011817, 0.054503, 0.017657,\n",
       "       0.01552 , 0.037515, 0.018537, 0.107731, 0.054959, 0.064215,\n",
       "       0.017453, 0.011929, 0.014829, 0.054959, 0.014747, 0.054959,\n",
       "       0.020042, 0.076677, 0.053053, 0.013522, 0.033628, 0.01436 ,\n",
       "       0.041078, 0.014711, 0.021264, 0.01436 , 0.012902, 0.02951 ,\n",
       "       0.013222, 0.016743, 0.05327 , 0.021613, 0.014206, 0.014206,\n",
       "       0.078409, 0.014888, 0.01791 , 0.01189 , 0.019539, 0.01436 ,\n",
       "       0.011929, 0.042854, 0.018537, 0.063571, 0.025488, 0.257604,\n",
       "       0.025488, 0.016408, 0.072239, 0.044346, 0.015339, 0.041589,\n",
       "       0.014711, 0.031592, 0.019837, 0.03156 , 0.108459, 0.017981,\n",
       "       0.026683, 0.044346, 0.013522, 0.019539, 0.041589, 0.021789,\n",
       "       0.015374, 0.014065, 0.065415, 0.026911, 0.015231, 0.0378  ,\n",
       "       0.016034, 0.047192, 0.015339, 0.031272, 0.133419, 0.133419,\n",
       "       0.133419, 0.013027, 0.021911, 0.014201, 0.021911, 0.01863 ,\n",
       "       0.020026, 0.040652, 0.07517 , 0.019539, 0.071821, 0.031483,\n",
       "       0.025488, 0.013013, 0.084025, 0.068154, 0.047866, 0.01796 ,\n",
       "       0.016928, 0.030999, 0.041589, 0.013013, 0.021407, 0.03306 ,\n",
       "       0.0218  , 0.021721, 0.014201, 0.0218  , 0.038821, 0.026301,\n",
       "       0.014201, 0.032658, 0.024262, 0.024262, 0.016892, 0.026511,\n",
       "       0.026511, 0.016086, 0.01189 , 0.056382, 0.024708, 0.049292,\n",
       "       0.116347, 0.032846, 0.02438 , 0.053067, 0.016112, 0.019344,\n",
       "       0.049292, 0.162072, 0.272034, 0.036833, 0.020026, 0.037515,\n",
       "       0.029455, 0.024405, 0.013013, 0.011817, 0.015295, 0.181814,\n",
       "       0.018432, 0.017772, 0.013013, 0.020435, 0.020042, 0.080605,\n",
       "       0.014206, 0.015312, 0.021264, 0.016408, 0.147739, 0.140138,\n",
       "       0.014111, 0.045636, 0.015971, 0.016743, 0.07818 , 0.015339,\n",
       "       0.015019, 0.13776 , 0.017438, 0.017931, 0.01917 , 0.016842,\n",
       "       0.012902, 0.069923, 0.088499, 0.118184, 0.024306, 0.083839,\n",
       "       0.015701, 0.070604, 0.043382, 0.07818 , 0.018558, 0.01436 ,\n",
       "       0.056152, 0.030999, 0.039115, 0.025241, 0.019539, 0.016928,\n",
       "       0.080605, 0.041671, 0.039196, 0.039196, 0.055941, 0.018612,\n",
       "       0.035094, 0.018836, 0.013522, 0.129449, 0.020435, 0.061222,\n",
       "       0.143085, 0.037317, 0.014838, 0.019539, 0.080005, 0.236903,\n",
       "       0.073102, 0.080017, 0.012902, 0.017981, 0.042502, 0.036171,\n",
       "       0.017981, 0.033083, 0.014888, 0.014888, 0.043699, 0.019539,\n",
       "       0.012902, 0.04655 , 0.012902, 0.037325, 0.012902, 0.013288,\n",
       "       0.012902, 0.038718, 0.013329, 0.013483, 0.015466, 0.013679,\n",
       "       0.013679, 0.011817, 0.015579, 0.01436 , 0.020376, 0.017171,\n",
       "       0.016088, 0.129358, 0.015701, 0.012902, 0.01762 , 0.013483,\n",
       "       0.012902, 0.01436 , 0.01436 , 0.014242, 0.085154, 0.012902,\n",
       "       0.013679, 0.012902, 0.026159, 0.015579, 0.011817, 0.012902,\n",
       "       0.014923, 0.028659, 0.016936, 0.150443, 0.01436 , 0.014111,\n",
       "       0.024208, 0.037526, 0.018187, 0.026099, 0.022429, 0.021321,\n",
       "       0.015826, 0.060801, 0.01436 , 0.026099, 0.016021, 0.026099,\n",
       "       0.023215, 0.016743, 0.058982, 0.029909, 0.023072, 0.012902,\n",
       "       0.120643, 0.111563, 0.024112, 0.017809, 0.021264, 0.095813,\n",
       "       0.014594, 0.033469, 0.100035, 0.021264, 0.069931, 0.01719 ,\n",
       "       0.013013, 0.100035, 0.163271, 0.012902, 0.023824, 0.020439,\n",
       "       0.014711, 0.035275, 0.015579, 0.045257, 0.155122, 0.202358,\n",
       "       0.016098, 0.016098, 0.023792, 0.018366, 0.030609, 0.024112,\n",
       "       0.014944, 0.023859, 0.015412, 0.014007, 0.067777, 0.018836,\n",
       "       0.030296, 0.01673 , 0.012902, 0.017423, 0.045944, 0.03435 ,\n",
       "       0.046397, 0.072495, 0.036781, 0.012902, 0.025429, 0.013679,\n",
       "       0.089922, 0.04313 , 0.172429, 0.057613, 0.044481, 0.012902,\n",
       "       0.014888, 0.015294, 0.172429, 0.015579, 0.012902, 0.013288,\n",
       "       0.014306, 0.014616, 0.023159, 0.015019, 0.013288, 0.024063,\n",
       "       0.019662, 0.024063, 0.014413, 0.014339, 0.012902, 0.013483,\n",
       "       0.013483, 0.07536 , 0.015579, 0.012902, 0.015579, 0.013013,\n",
       "       0.012902, 0.015579, 0.012902, 0.014111, 0.017096, 0.034939,\n",
       "       0.020789, 0.04313 , 0.013483, 0.012902, 0.012902, 0.04313 ,\n",
       "       0.068218, 0.013013, 0.012902, 0.068218, 0.121709, 0.012902,\n",
       "       0.042287, 0.025908, 0.013288, 0.012637, 0.026942, 0.121627,\n",
       "       0.012902, 0.041193, 0.022464, 0.013013, 0.072301, 0.014413,\n",
       "       0.026443, 0.012902, 0.012902, 0.01883 , 0.012902, 0.027072,\n",
       "       0.014099, 0.016743, 0.012902, 0.015579, 0.021606, 0.015579,\n",
       "       0.012902, 0.013013, 0.012902, 0.044898, 0.035136, 0.04826 ,\n",
       "       0.013013, 0.012974, 0.012974, 0.102181, 0.012902, 0.021758,\n",
       "       0.014413, 0.021019, 0.092638, 0.087677, 0.027498, 0.09354 ,\n",
       "       0.011817, 0.012902, 0.012902, 0.093219, 0.014639, 0.022923,\n",
       "       0.017438, 0.10682 , 0.012902, 0.012902, 0.012902, 0.02731 ,\n",
       "       0.027498, 0.019991, 0.044378, 0.013483, 0.023519, 0.022069,\n",
       "       0.012902, 0.027851, 0.012902, 0.012902, 0.014639, 0.012902,\n",
       "       0.025472, 0.087261, 0.017953, 0.030495, 0.027855, 0.016098,\n",
       "       0.019116, 0.042947, 0.133057, 0.019683, 0.01673 , 0.03243 ,\n",
       "       0.016456, 0.041377, 0.013483, 0.013483, 0.033871, 0.019403,\n",
       "       0.01285 , 0.014111, 0.021131, 0.01436 , 0.032062, 0.021038,\n",
       "       0.095942, 0.01762 , 0.089473, 0.019397, 0.023519, 0.021761,\n",
       "       0.014111, 0.036992, 0.02414 , 0.020338, 0.024575, 0.041686,\n",
       "       0.063385, 0.090067, 0.025257, 0.023574, 0.013288, 0.029198,\n",
       "       0.02744 , 0.027389, 0.098782, 0.046913, 0.022679, 0.017953,\n",
       "       0.022989, 0.022989, 0.015564, 0.012902, 0.157407, 0.310984,\n",
       "       0.106834, 0.014693, 0.028781, 0.025791, 0.067735, 0.035043,\n",
       "       0.037172, 0.022404, 0.065343, 0.015266, 0.025739, 0.01436 ,\n",
       "       0.128141, 0.121823, 0.07546 , 0.353701, 0.015525, 0.019662,\n",
       "       0.017023, 0.05505 , 0.020781, 0.074905, 0.040563, 0.147143,\n",
       "       0.035055, 0.015848, 0.014111, 0.021099, 0.037515, 0.021749,\n",
       "       0.031941, 0.024889, 0.016911, 0.024707, 0.053288, 0.141729,\n",
       "       0.011817, 0.11109 , 0.040119, 0.095979, 0.040731, 0.037032,\n",
       "       0.014184, 0.027111, 0.048197, 0.032009, 0.023742, 0.075106,\n",
       "       0.024502, 0.019516, 0.032009, 0.018148, 0.078419, 0.018612,\n",
       "       0.019381, 0.025184, 0.020045, 0.066221, 0.020045, 0.021155,\n",
       "       0.016892, 0.047454, 0.017981, 0.072657, 0.047378, 0.016021,\n",
       "       0.085636, 0.017981, 0.026114, 0.030653, 0.056339, 0.015842,\n",
       "       0.145236, 0.028563, 0.026792, 0.01552 , 0.01552 , 0.014824,\n",
       "       0.027325, 0.013013, 0.015708, 0.030444, 0.038434, 0.027514,\n",
       "       0.021596, 0.058761, 0.014201, 0.059195, 0.021155, 0.021264,\n",
       "       0.046827, 0.035451, 0.030297, 0.049005, 0.059859, 0.014111,\n",
       "       0.031559, 0.031559, 0.040651, 0.072331, 0.038447, 0.092709,\n",
       "       0.059557, 0.015789, 0.109757, 0.04427 , 0.020813, 0.01992 ,\n",
       "       0.015126, 0.025065, 0.021031, 0.023677, 0.034489, 0.040093,\n",
       "       0.050105, 0.047635, 0.026005, 0.015266, 0.024208, 0.044998,\n",
       "       0.120615, 0.105737, 0.023843, 0.015866, 0.088484, 0.032298,\n",
       "       0.146668, 0.142261, 0.045882, 0.019381, 0.063757, 0.039029,\n",
       "       0.030398, 0.033567, 0.024334, 0.017933, 0.037178, 0.031434,\n",
       "       0.030762, 0.03027 , 0.019516, 0.018343, 0.031434, 0.019468,\n",
       "       0.02959 , 0.028386, 0.020045, 0.030448, 0.024645, 0.067272,\n",
       "       0.044285, 0.024151, 0.065729, 0.017975, 0.032903, 0.018671,\n",
       "       0.035164, 0.042705, 0.033275, 0.028437, 0.030155, 0.111343,\n",
       "       0.0306  , 0.024566, 0.032804, 0.014111, 0.03131 , 0.02301 ,\n",
       "       0.022071, 0.025002, 0.075462, 0.027482, 0.025739, 0.018094,\n",
       "       0.02696 , 0.026163, 0.018986, 0.038752, 0.018986, 0.038525,\n",
       "       0.026146, 0.026146, 0.038827, 0.054933, 0.059895, 0.020291,\n",
       "       0.02121 , 0.020045, 0.015245, 0.016792, 0.02462 , 0.023043,\n",
       "       0.031619, 0.026512, 0.045323, 0.090331, 0.024666, 0.070522,\n",
       "       0.020045, 0.028406, 0.055791, 0.020254, 0.033115, 0.023618,\n",
       "       0.02974 , 0.024666, 0.031408, 0.037255, 0.025942, 0.086129,\n",
       "       0.032642, 0.032642, 0.024707, 0.092638, 0.026538, 0.04358 ,\n",
       "       0.038763, 0.037178, 0.031619, 0.039161, 0.072939, 0.050449,\n",
       "       0.047998, 0.034389, 0.021031, 0.028314, 0.027149, 0.024707,\n",
       "       0.023198, 0.024512, 0.031876, 0.032648, 0.045182, 0.031524,\n",
       "       0.020359, 0.025791, 0.027211, 0.03259 , 0.034732, 0.036037,\n",
       "       0.02731 , 0.022071, 0.282538, 0.024404, 0.248397, 0.041314,\n",
       "       0.247443, 0.013522, 0.020851, 0.038632, 0.266471, 0.021935])"
      ]
     },
     "execution_count": 102,
     "metadata": {},
     "output_type": "execute_result"
    }
   ],
   "source": [
    "pred.round(decimals = 6)"
   ]
  },
  {
   "cell_type": "code",
   "execution_count": 103,
   "metadata": {},
   "outputs": [
    {
     "data": {
      "text/plain": [
       "(762, 19)"
      ]
     },
     "execution_count": 103,
     "metadata": {},
     "output_type": "execute_result"
    }
   ],
   "source": [
    "x1.shape"
   ]
  },
  {
   "cell_type": "code",
   "execution_count": 104,
   "metadata": {},
   "outputs": [],
   "source": [
    "cf=pd.read_csv(\"C:/Users/hp/OneDrive/Desktop/kaggle notes and datasets/Job a thon/sample_submission_aug.csv\")"
   ]
  },
  {
   "cell_type": "code",
   "execution_count": 105,
   "metadata": {},
   "outputs": [
    {
     "data": {
      "text/html": [
       "<div>\n",
       "<style scoped>\n",
       "    .dataframe tbody tr th:only-of-type {\n",
       "        vertical-align: middle;\n",
       "    }\n",
       "\n",
       "    .dataframe tbody tr th {\n",
       "        vertical-align: top;\n",
       "    }\n",
       "\n",
       "    .dataframe thead th {\n",
       "        text-align: right;\n",
       "    }\n",
       "</style>\n",
       "<table border=\"1\" class=\"dataframe\">\n",
       "  <thead>\n",
       "    <tr style=\"text-align: right;\">\n",
       "      <th></th>\n",
       "      <th>campaign_id</th>\n",
       "      <th>click_rate</th>\n",
       "    </tr>\n",
       "  </thead>\n",
       "  <tbody>\n",
       "    <tr>\n",
       "      <th>0</th>\n",
       "      <td>1889</td>\n",
       "      <td>0.043454</td>\n",
       "    </tr>\n",
       "    <tr>\n",
       "      <th>1</th>\n",
       "      <td>1890</td>\n",
       "      <td>0.043454</td>\n",
       "    </tr>\n",
       "    <tr>\n",
       "      <th>2</th>\n",
       "      <td>1891</td>\n",
       "      <td>0.043454</td>\n",
       "    </tr>\n",
       "    <tr>\n",
       "      <th>3</th>\n",
       "      <td>1892</td>\n",
       "      <td>0.043454</td>\n",
       "    </tr>\n",
       "    <tr>\n",
       "      <th>4</th>\n",
       "      <td>1893</td>\n",
       "      <td>0.043454</td>\n",
       "    </tr>\n",
       "  </tbody>\n",
       "</table>\n",
       "</div>"
      ],
      "text/plain": [
       "   campaign_id  click_rate\n",
       "0         1889    0.043454\n",
       "1         1890    0.043454\n",
       "2         1891    0.043454\n",
       "3         1892    0.043454\n",
       "4         1893    0.043454"
      ]
     },
     "execution_count": 105,
     "metadata": {},
     "output_type": "execute_result"
    }
   ],
   "source": [
    "cf.head()"
   ]
  },
  {
   "cell_type": "code",
   "execution_count": 108,
   "metadata": {},
   "outputs": [],
   "source": [
    "cf['campaign_id']=df_['campaign_id']\n",
    "cf['click_rate']=pred"
   ]
  },
  {
   "cell_type": "code",
   "execution_count": 109,
   "metadata": {},
   "outputs": [],
   "source": [
    "pd.DataFrame(cf, columns=['campaign_id','click_rate']).to_csv('JOT1_aug.csv', index=False)"
   ]
  }
 ],
 "metadata": {
  "kernelspec": {
   "display_name": "Python 3",
   "language": "python",
   "name": "python3"
  },
  "language_info": {
   "codemirror_mode": {
    "name": "ipython",
    "version": 3
   },
   "file_extension": ".py",
   "mimetype": "text/x-python",
   "name": "python",
   "nbconvert_exporter": "python",
   "pygments_lexer": "ipython3",
   "version": "3.8.3"
  }
 },
 "nbformat": 4,
 "nbformat_minor": 4
}
